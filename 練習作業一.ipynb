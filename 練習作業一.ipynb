{
 "cells": [
  {
   "cell_type": "code",
   "execution_count": null,
   "id": "e7aa8905",
   "metadata": {},
   "outputs": [],
   "source": [
    "import re\n",
    "\n",
    "a=input('請輸入您的電子郵件地址')\n",
    "\n",
    "if re.match(r\"^ [a-zA-Z0-9_•+-]+@[a-zA-Z0-9-]+\\. [a-zA-Z0-9-.] +$\",a):\n",
    "    print('這是有效的電子遊ㄐㄧ')"
   ]
  }
 ],
 "metadata": {
  "kernelspec": {
   "display_name": "Python 3 (ipykernel)",
   "language": "python",
   "name": "python3"
  },
  "language_info": {
   "codemirror_mode": {
    "name": "ipython",
    "version": 3
   },
   "file_extension": ".py",
   "mimetype": "text/x-python",
   "name": "python",
   "nbconvert_exporter": "python",
   "pygments_lexer": "ipython3",
   "version": "3.11.4"
  }
 },
 "nbformat": 4,
 "nbformat_minor": 5
}
